{
 "cells": [
  {
   "cell_type": "code",
   "execution_count": 36,
   "metadata": {},
   "outputs": [],
   "source": [
    "import pandas as pd\n",
    "import numpy as np\n",
    "\n",
    "pd.set_option('display.max_columns', 500)"
   ]
  },
  {
   "cell_type": "code",
   "execution_count": 65,
   "metadata": {},
   "outputs": [],
   "source": [
    "def read_mac():\n",
    "\n",
    "    itemized = pd.read_excel(\"/Users/danielsagher/Dropbox/Documents/projects/nautical_reconciliation/excel_files/invoice_data.xlsx\",header=2,sheet_name=0,)\n",
    "    invoice_data = pd.read_excel(\"/Users/danielsagher/Dropbox/Documents/projects/nautical_reconciliation/excel_files/invoice_data.xlsx\",sheet_name=1,)\n",
    "    qbo = pd.read_excel(\"/Users/danielsagher/Dropbox/Documents/projects/nautical_reconciliation/excel_files/QBO_customers.xlsx\")\n",
    "    amt = pd.read_excel(\"/Users/danielsagher/Dropbox/Documents/projects/nautical_reconciliation/excel_files/Exensiv.xlsx\",sheet_name=\"AMT\")\n",
    "    gp_acoustics = pd.read_excel(\"/Users/danielsagher/Dropbox/Documents/projects/nautical_reconciliation/excel_files/Exensiv.xlsx\",sheet_name=\"GPAcoustics\")\n",
    "    whill = pd.read_excel(\"/Users/danielsagher/Dropbox/Documents/projects/nautical_reconciliation/excel_files/Exensiv.xlsx\",sheet_name=\"Whill\")\n",
    "\n",
    "    return itemized, invoice_data, qbo, amt, gp_acoustics, whill\n",
    "\n",
    "itemized, invoice_data, qbo, amt, gp_acoustics, whill = read_mac()\n"
   ]
  },
  {
   "cell_type": "code",
   "execution_count": 38,
   "metadata": {},
   "outputs": [],
   "source": [
    "# Read CSV from Windows Comp\n",
    "\n",
    "def read_windows():\n",
    "\n",
    "    itemized = pd.read_excel(\"C:/Users/danie/OneDrive/Projects/fedex_reconciliation/Excel/Invoice_data.xlsx\", header=2, sheet_name=0)\n",
    "    invoice_data = pd.read_excel(\"C:/Users/danie/OneDrive/Projects/fedex_reconciliation/Excel/Invoice_data.xlsx\", sheet_name=1)\n",
    "    qbo = pd.read_excel(\"C:/Users/danie/OneDrive/Projects/fedex_reconciliation/Excel/QBO_customers(1).xlsx\")\n",
    "    amt = pd.read_excel(\"C:/Users/danie/OneDrive/Projects/fedex_reconciliation/Excel/Exensiv.xlsx\", sheet_name='AMT')\n",
    "    gp_acoustics = pd.read_excel(\"C:/Users/danie/OneDrive/Projects/fedex_reconciliation/Excel/Exensiv.xlsx\", sheet_name='GPAcoustics')\n",
    "    whill = pd.read_excel(\"C:/Users/danie/OneDrive/Projects/fedex_reconciliation/Excel/Exensiv.xlsx\", sheet_name='Whill')\n",
    "\n",
    "    return itemized, invoice_data, qbo, amt, gp_acoustics, whill\n",
    "\n",
    "# itemized, invoice_data, qbo, amt, gp_acoustics, whill = read_windows()    \n"
   ]
  },
  {
   "cell_type": "code",
   "execution_count": 79,
   "metadata": {},
   "outputs": [],
   "source": [
    "\n",
    "def convert_floats2ints(df):\n",
    "\n",
    "    floats_df = df.select_dtypes(include = 'float64')\n",
    "\n",
    "    # Find all whole numbers\n",
    "    all_whole_numbers = np.all(floats_df.dropna == floats_df.dropna().astype(int))\n",
    "    # Get columns of all whole numbers\n",
    "    convertible_cols = [\n",
    "        col for col in floats_df.columns\n",
    "        if np.all(df[col].dropna() == all_whole_numbers)\n",
    "    ]\n",
    "    \n",
    "    # Convert back to Invoice Data\n",
    "    floats_df[convertible_cols].fillna(0).astype(int)\n",
    "\n",
    "    df[convertible_cols] = floats_df[convertible_cols]"
   ]
  },
  {
   "cell_type": "code",
   "execution_count": 80,
   "metadata": {},
   "outputs": [],
   "source": [
    "convert_floats2ints(invoice_data)\n",
    "convert_floats2ints(gp_acoustics)\n",
    "convert_floats2ints(whill)\n",
    "convert_floats2ints(amt)\n",
    "convert_floats2ints(qbo)"
   ]
  },
  {
   "cell_type": "code",
   "execution_count": null,
   "metadata": {},
   "outputs": [],
   "source": []
  }
 ],
 "metadata": {
  "kernelspec": {
   "display_name": "base",
   "language": "python",
   "name": "python3"
  },
  "language_info": {
   "codemirror_mode": {
    "name": "ipython",
    "version": 3
   },
   "file_extension": ".py",
   "mimetype": "text/x-python",
   "name": "python",
   "nbconvert_exporter": "python",
   "pygments_lexer": "ipython3",
   "version": "3.12.4"
  }
 },
 "nbformat": 4,
 "nbformat_minor": 2
}
